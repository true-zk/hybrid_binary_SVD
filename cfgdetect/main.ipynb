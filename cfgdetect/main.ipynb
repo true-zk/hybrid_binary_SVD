{
 "cells": [
  {
   "cell_type": "markdown",
   "source": [
    "### main.ipynb\n",
    "- load data\n",
    "- train model"
   ],
   "metadata": {
    "collapsed": false
   }
  },
  {
   "cell_type": "code",
   "execution_count": 1,
   "outputs": [],
   "source": [
    "import re\n",
    "import os\n",
    "import gendata_new\n",
    "import torch\n",
    "from torch.nn import Sequential as Seq, Linear, ReLU\n",
    "import torch.nn.functional as F\n",
    "from torch_geometric.loader import DataLoader\n",
    "from torch_geometric.nn import MessagePassing, TopKPooling\n",
    "from torch_geometric.nn import global_mean_pool, global_max_pool\n",
    "from torch_geometric.utils import degree\n",
    "\n",
    "import random\n",
    "import time\n",
    "import numpy as np\n",
    "import matplotlib.pyplot as plt"
   ],
   "metadata": {
    "collapsed": false
   }
  },
  {
   "cell_type": "code",
   "execution_count": 2,
   "outputs": [],
   "source": [
    "CWE = 190\n",
    "CWE = str(CWE)"
   ],
   "metadata": {
    "collapsed": false
   }
  },
  {
   "cell_type": "code",
   "execution_count": 3,
   "outputs": [
    {
     "name": "stdout",
     "output_type": "stream",
     "text": [
      "len of dataset:6840,         len of train:4788,         len of validate:684,         len of test:1368\n",
      "good in testset:710;;bad in testset:658\n",
      "data load time:  217.59242606163025\n"
     ]
    }
   ],
   "source": [
    "# start time log\n",
    "time_start = time.time()\n",
    "\n",
    "# load data -> Dataset\n",
    "data_path_good = r\"D:\\Desktop\\hybrid-SVD\\datasrc\\CWE{}\\goodres\\dot\".format(CWE)\n",
    "data_path_bad = r\"D:\\Desktop\\hybrid-SVD\\datasrc\\CWE{}\\badres\\dot\".format(CWE)\n",
    "\n",
    "Dataset = gendata_new.gendata(data_path_good)\n",
    "Dataset = Dataset + gendata_new.gendata(data_path_bad)\n",
    "\n",
    "random.shuffle(Dataset)\n",
    "\n",
    "lenDataset = len(Dataset)\n",
    "len_Trainset = int(0.7 * lenDataset)\n",
    "len_Testset = int(0.2 * lenDataset)\n",
    "len_Validateset = lenDataset - len_Testset - len_Trainset\n",
    "Trainset = Dataset[:len_Trainset]\n",
    "Testset = Dataset[len_Trainset :  len_Trainset+len_Testset]\n",
    "Validset = Dataset[len_Trainset+len_Testset:]\n",
    "print(f\"len of dataset:{lenDataset}, \\\n",
    "        len of train:{len_Trainset}, \\\n",
    "        len of validate:{len_Validateset}, \\\n",
    "        len of test:{len_Testset}\")\n",
    "\n",
    "# dataset -> loader\n",
    "train_loader = DataLoader(Trainset, batch_size=32, drop_last=True)\n",
    "test_loader = DataLoader(Testset, batch_size=32, drop_last=True)\n",
    "good = 0\n",
    "bad = 0\n",
    "for test in Testset:\n",
    "    if test[\"y\"] == 1:\n",
    "        good += 1\n",
    "    else:\n",
    "        bad += 1\n",
    "print(f\"good in testset:{good};;bad in testset:{bad}\")\n",
    "\n",
    "# fin load ; print time span\n",
    "time_fin_load = time.time()\n",
    "print(\"data load time: \", time_fin_load-time_start)"
   ],
   "metadata": {
    "collapsed": false
   }
  },
  {
   "cell_type": "code",
   "execution_count": 4,
   "outputs": [],
   "source": [
    "# GCN layer\n",
    "# cite: https://pytorch-geometric.readthedocs.io/en/latest/notes/create_gnn.html\n",
    "class GCNConv(MessagePassing):\n",
    "    def __init__(self, in_channels, out_channels, **kwargs):\n",
    "        super().__init__(aggr='add', **kwargs)  # \"Add\" aggregation (Step 5).\n",
    "        self.in_channels = in_channels\n",
    "        self.out_channels = out_channels\n",
    "        self.lin = Linear(in_channels, out_channels)\n",
    "\n",
    "    def forward(self, x, edge_index):\n",
    "        # x[N, in_channels]\n",
    "        # edge_index, _ = add_self_loops(edge_index, num_nodes=x.size(0))\n",
    "        x = self.lin(x)\n",
    "        row, col = edge_index\n",
    "\n",
    "        deg = degree(col, x.size(0), dtype=x.dtype)\n",
    "\n",
    "        deg_inv_sqrt = deg.pow(-0.5)\n",
    "        deg_inv_sqrt[deg_inv_sqrt == float('inf')] = 0\n",
    "        norm = deg_inv_sqrt[row] * deg_inv_sqrt[col]\n",
    "        return  self.propagate(edge_index, size=(x.size(0), x.size(0)), x=x, norm=norm)\n",
    "\n",
    "    def message(self, x_j, norm):\n",
    "        # x_j has shape [E, out_channels]\n",
    "\n",
    "        # Step 4: Normalize node features.\n",
    "        return norm.view(-1, 1) * x_j\n",
    "\n",
    "    def update(self, aggr_out):\n",
    "        # aggr_out has shape [N, out_channels]\n",
    "        # Step 6: Return new node embeddings.\n",
    "        return aggr_out"
   ],
   "metadata": {
    "collapsed": false
   }
  },
  {
   "cell_type": "code",
   "execution_count": 5,
   "outputs": [],
   "source": [
    "# Whole NN model\n",
    "class Net(torch.nn.Module):\n",
    "    def __init__(self):\n",
    "        super(Net, self).__init__()\n",
    "        self.conv1 = GCNConv(256, 256)\n",
    "        # self.conv1 = GraphConv(128, 128)\n",
    "        self.pool1 = TopKPooling(256, ratio=0.8)\n",
    "        self.conv2 = GCNConv(256, 256)\n",
    "        # self.conv2 = GraphConv(128, 128)\n",
    "        self.pool2 = TopKPooling(256, ratio=0.8)\n",
    "        self.conv3 = GCNConv(256, 256)\n",
    "        # self.conv3 = GraphConv(128, 128)\n",
    "        self.pool3 = TopKPooling(256, ratio=0.8)\n",
    "        self.conv4 = GCNConv(256, 256)\n",
    "        self.pool4 = TopKPooling(256, ratio=0.8)\n",
    "        self.conv5 = GCNConv(256, 256)\n",
    "        self.pool5 = TopKPooling(256, ratio=0.8)\n",
    "\n",
    "        self.convAtt1 = torch.nn.Conv1d(in_channels=512, out_channels=64, kernel_size=1, stride=2)\n",
    "        self.poolAtt1 = torch.nn.MaxPool1d(kernel_size=1, stride=2)\n",
    "        self.convAtt2 = torch.nn.Conv1d(64, 16, kernel_size=1, stride=2)\n",
    "        self.poolAtt2 = torch.nn.MaxPool1d(kernel_size=1, stride=2)\n",
    "        self.convAtt3 = torch.nn.Conv1d(16, 2, kernel_size=1, stride=2)\n",
    "        self.poolAtt3 = torch.nn.MaxPool1d(kernel_size=1, stride=2)\n",
    "\n",
    "        self.convAtt4 = torch.nn.Conv1d(2, 16, kernel_size=1, stride=2)\n",
    "        self.poolAtt4 = torch.nn.MaxPool1d(kernel_size=1, stride=2)\n",
    "        self.convAtt5 = torch.nn.Conv1d(16, 64, kernel_size=1, stride=2)\n",
    "        self.poolAtt5 = torch.nn.MaxPool1d(kernel_size=1, stride=2)\n",
    "        self.convAtt6 = torch.nn.Conv1d(64, 512, kernel_size=1, stride=2)\n",
    "        self.poolAtt6 = torch.nn.MaxPool1d(kernel_size=1, stride=2)\n",
    "\n",
    "        self.lin1 = torch.nn.Linear(512, 128)\n",
    "        self.lin2 = torch.nn.Linear(128, 64)\n",
    "        self.lin3 = torch.nn.Linear(64, 2)\n",
    "\n",
    "        self.readout = Seq(Linear(128, 64),\n",
    "                           ReLU(),\n",
    "                           Linear(64, 2))\n",
    "\n",
    "    def forward(self, x, edge_index, batch):\n",
    "        # x, edge_index, batch = data.x, data.edge_index, data.batch\n",
    "\n",
    "        x = F.relu(self.conv1(x, edge_index))\n",
    "        x, edge_index, _, batch, _, _ = self.pool1(x, edge_index, None, batch)\n",
    "        x1 = torch.cat([global_max_pool(x, batch), global_mean_pool(x, batch)], dim=1)\n",
    "\n",
    "        x = F.relu(self.conv2(x, edge_index))\n",
    "        x, edge_index, _, batch, _, _ = self.pool2(x, edge_index, None, batch)\n",
    "        x2 = torch.cat([global_max_pool(x, batch), global_mean_pool(x, batch)], dim=1)\n",
    "\n",
    "        x = F.relu(self.conv3(x, edge_index))\n",
    "        x, edge_index, _, batch, _, _ = self.pool3(x, edge_index, None, batch)\n",
    "        x3 = torch.cat([global_max_pool(x, batch), global_mean_pool(x, batch)], dim=1)\n",
    "\n",
    "        x = F.relu(self.conv4(x, edge_index))\n",
    "        x, edge_index, _, batch, _, _ = self.pool4(x, edge_index, None, batch)\n",
    "        x4 = torch.cat([global_max_pool(x, batch), global_mean_pool(x, batch)], dim=1)\n",
    "\n",
    "        x = F.relu(self.conv5(x, edge_index))\n",
    "        x, edge_index, _, batch, _, _ = self.pool5(x, edge_index, None, batch)\n",
    "        x5 = torch.cat([global_max_pool(x, batch), global_mean_pool(x, batch)], dim=1)\n",
    "\n",
    "        x = x1 + x2 + x3 + x4 + x5\n",
    "\n",
    "        x = 1/5 * x\n",
    "\n",
    "        sx = x\n",
    "\n",
    "        x = x.unsqueeze(dim=2)\n",
    "        # attention层\n",
    "        x = F.relu(self.convAtt1(x))\n",
    "        x = self.poolAtt1(x)\n",
    "        x = F.relu(self.convAtt2(x))\n",
    "        x = self.poolAtt2(x)\n",
    "        x = F.relu(self.convAtt3(x))\n",
    "        x = self.poolAtt3(x)\n",
    "\n",
    "        x = F.relu(self.convAtt4(x))\n",
    "        x = self.poolAtt4(x)\n",
    "        x = F.relu(self.convAtt5(x))\n",
    "        x = self.poolAtt5(x)\n",
    "        x = F.relu(self.convAtt6(x))\n",
    "        x = self.poolAtt6(x)\n",
    "\n",
    "        x = x.squeeze()\n",
    "\n",
    "        x = (x + 1) * sx\n",
    "\n",
    "        x = F.relu(self.lin1(x))\n",
    "        x = F.dropout(x, p=0.5, training=self.training)\n",
    "        x = F.relu(self.lin2(x))\n",
    "        x = F.log_softmax(self.lin3(x), dim=-1)\n",
    "\n",
    "        return x"
   ],
   "metadata": {
    "collapsed": false
   }
  },
  {
   "cell_type": "code",
   "execution_count": 6,
   "outputs": [],
   "source": [
    "device = torch.device('cuda' if torch.cuda.is_available() else 'cpu')\n",
    "# device = torch.device('cpu')\n",
    "model = Net().to(device)\n",
    "optimizer = torch.optim.Adam(model.parameters(), lr=0.001)\n",
    "criterion = torch.nn.CrossEntropyLoss()"
   ],
   "metadata": {
    "collapsed": false
   }
  },
  {
   "cell_type": "code",
   "execution_count": 7,
   "outputs": [],
   "source": [
    "def train(epoch):\n",
    "    model.train()\n",
    "    loss_all = 0\n",
    "    for data in train_loader:\n",
    "        data = data.to(device)\n",
    "        optimizer.zero_grad()\n",
    "        x, edge_index, batch = data.x, data.edge_index, data.batch\n",
    "        output = model(x, edge_index, batch)\n",
    "        loss = F.nll_loss(output, data.y)\n",
    "        loss.backward()\n",
    "        loss_all += data.num_graphs * loss.item()\n",
    "        optimizer.step()\n",
    "    return loss_all / len(Trainset)"
   ],
   "metadata": {
    "collapsed": false
   }
  },
  {
   "cell_type": "code",
   "execution_count": 8,
   "outputs": [],
   "source": [
    "def test(t_loader):\n",
    "    model.eval()\n",
    "    correct = 0\n",
    "    tp = 0\n",
    "    tn = 0\n",
    "    fp = 0\n",
    "    fn = 0\n",
    "    pred_good = 0\n",
    "    pred_bad = 0\n",
    "    for data in t_loader:\n",
    "        data = data.to(device)\n",
    "        x, edge_index, batch = data.x, data.edge_index, data.batch\n",
    "        preds = model(x, edge_index, batch).max(dim=1)[1]\n",
    "        correct += preds.eq(data.y).sum().item()\n",
    "        for i in range(len(preds)):\n",
    "            if preds[i] == 0 and data.y[i] == 0:\n",
    "                tp += 1\n",
    "                pred_bad += 1\n",
    "            elif preds[i] == 0 and data.y[i] == 1:\n",
    "                fp += 1\n",
    "                pred_bad += 1\n",
    "            elif preds[i] == 1 and data.y[i] == 1:\n",
    "                tn += 1\n",
    "                pred_good += 1\n",
    "            elif preds[i] == 1 and data.y[i] == 0:\n",
    "                fn += 1\n",
    "                pred_good += 1\n",
    "    acc = (tp + tn) / (tp + tn + fp + fn)\n",
    "    return round(acc, 6), tp, fp, tn, fn, pred_good, pred_bad"
   ],
   "metadata": {
    "collapsed": false
   }
  },
  {
   "cell_type": "code",
   "execution_count": 9,
   "outputs": [
    {
     "name": "stdout",
     "output_type": "stream",
     "text": [
      "Epoch: 000, Loss: 0.42867, Train Acc: 0.86577,Test Acc: 0.86905, TP: 631, FP: 155, TN: 537, FN: 21, Pred_good: 0558, Pred_bad: 0786\n",
      "Epoch: 010, Loss: 0.17343, Train Acc: 0.89681,Test Acc: 0.89807, TP: 557, FP: 42, TN: 650, FN: 95, Pred_good: 0745, Pred_bad: 0599\n",
      "Epoch: 020, Loss: 0.31506, Train Acc: 0.89828,Test Acc: 0.89658, TP: 551, FP: 38, TN: 654, FN: 101, Pred_good: 0755, Pred_bad: 0589\n",
      "Epoch: 030, Loss: 0.14673, Train Acc: 0.90604,Test Acc: 0.90848, TP: 584, FP: 55, TN: 637, FN: 68, Pred_good: 0705, Pred_bad: 0639\n",
      "Epoch: 040, Loss: 0.14399, Train Acc: 0.90898,Test Acc: 0.90923, TP: 610, FP: 80, TN: 612, FN: 42, Pred_good: 0654, Pred_bad: 0690\n",
      "Epoch: 050, Loss: 0.14314, Train Acc: 0.90898,Test Acc: 0.90030, TP: 600, FP: 82, TN: 610, FN: 52, Pred_good: 0662, Pred_bad: 0682\n",
      "Epoch: 060, Loss: 0.14131, Train Acc: 0.91170,Test Acc: 0.90699, TP: 625, FP: 98, TN: 594, FN: 27, Pred_good: 0621, Pred_bad: 0723\n",
      "Epoch: 070, Loss: 0.14638, Train Acc: 0.91170,Test Acc: 0.90848, TP: 634, FP: 105, TN: 587, FN: 18, Pred_good: 0605, Pred_bad: 0739\n",
      "Epoch: 080, Loss: 0.14125, Train Acc: 0.92030,Test Acc: 0.91667, TP: 621, FP: 81, TN: 611, FN: 31, Pred_good: 0642, Pred_bad: 0702\n",
      "Epoch: 090, Loss: 0.13300, Train Acc: 0.92387,Test Acc: 0.92039, TP: 619, FP: 74, TN: 618, FN: 33, Pred_good: 0651, Pred_bad: 0693\n",
      "Epoch: 100, Loss: 0.13584, Train Acc: 0.92030,Test Acc: 0.91890, TP: 630, FP: 87, TN: 605, FN: 22, Pred_good: 0627, Pred_bad: 0717\n",
      "Epoch: 110, Loss: 0.13530, Train Acc: 0.92261,Test Acc: 0.92559, TP: 635, FP: 83, TN: 609, FN: 17, Pred_good: 0626, Pred_bad: 0718\n",
      "Epoch: 120, Loss: 0.14701, Train Acc: 0.93247,Test Acc: 0.93080, TP: 607, FP: 48, TN: 644, FN: 45, Pred_good: 0689, Pred_bad: 0655\n",
      "Epoch: 130, Loss: 0.12928, Train Acc: 0.92890,Test Acc: 0.92336, TP: 612, FP: 63, TN: 629, FN: 40, Pred_good: 0669, Pred_bad: 0675\n",
      "Epoch: 140, Loss: 0.11982, Train Acc: 0.93456,Test Acc: 0.93080, TP: 615, FP: 56, TN: 636, FN: 37, Pred_good: 0673, Pred_bad: 0671\n",
      "Epoch: 150, Loss: 0.12779, Train Acc: 0.93666,Test Acc: 0.93006, TP: 611, FP: 53, TN: 639, FN: 41, Pred_good: 0680, Pred_bad: 0664\n",
      "Epoch: 160, Loss: 0.11580, Train Acc: 0.92827,Test Acc: 0.91964, TP: 610, FP: 66, TN: 626, FN: 42, Pred_good: 0668, Pred_bad: 0676\n",
      "Epoch: 170, Loss: 0.11762, Train Acc: 0.93226,Test Acc: 0.92857, TP: 619, FP: 63, TN: 629, FN: 33, Pred_good: 0662, Pred_bad: 0682\n",
      "Epoch: 180, Loss: 0.12430, Train Acc: 0.93897,Test Acc: 0.92708, TP: 603, FP: 49, TN: 643, FN: 49, Pred_good: 0692, Pred_bad: 0652\n",
      "Epoch: 190, Loss: 0.11333, Train Acc: 0.94211,Test Acc: 0.92932, TP: 634, FP: 77, TN: 615, FN: 18, Pred_good: 0633, Pred_bad: 0711\n",
      "train & test time span :  1202.1103808879852\n"
     ]
    }
   ],
   "source": [
    "# train & test\n",
    "# time log\n",
    "time_start = time.time()\n",
    "\n",
    "train_loss_a = np.zeros(200)\n",
    "test_acc_a = np.zeros(200)\n",
    "for epoch in range(0, 200):\n",
    "    loss = train(epoch)\n",
    "    if epoch % 10 == 0:\n",
    "        train_acc, tp, fp, tn, fn, pred_good, pred_bad = test(train_loader)\n",
    "        test_acc, tp, fp, tn, fn, pred_good, pred_bad = test(test_loader)\n",
    "        train_loss_a[epoch] = loss\n",
    "        test_acc_a[epoch] = test_acc\n",
    "        print('Epoch: {:03d}, Loss: {:.5f}, Train Acc: {:.5f},Test Acc: {:.5f}, TP: {:02d}, FP: {:02d}, TN: {:02d}, FN: {:02d}, Pred_good: {:04d}, Pred_bad: {:04d}'.\n",
    "            format(epoch, loss, train_acc, test_acc, tp, fp, tn, fn, pred_good, pred_bad))\n",
    "\n",
    "# fin train & test;;print time span\n",
    "time_fin_train = time.time()\n",
    "print(\"train & test time span : \", time_fin_train - time_start)"
   ],
   "metadata": {
    "collapsed": false
   }
  },
  {
   "cell_type": "code",
   "execution_count": 10,
   "outputs": [
    {
     "data": {
      "text/plain": "<Figure size 640x480 with 1 Axes>",
      "image/png": "[encoded data removed]"
     },
     "metadata": {},
     "output_type": "display_data"
    }
   ],
   "source": [
    "path = os.getcwd()\n",
    "x = np.arange(0, 96, 1)\n",
    "plt.xlabel(\"iteration\")\n",
    "plt.ylabel(\"train loss\")\n",
    "plt.plot(x, train_loss_a[0:96])"
   ],
   "metadata": {
    "collapsed": false
   }
  }
 ],
 "metadata": {
  "kernelspec": {
   "display_name": "Python 3",
   "language": "python",
   "name": "python3"
  },
  "language_info": {
   "codemirror_mode": {
    "name": "ipython",
    "version": 2
   },
   "file_extension": ".py",
   "mimetype": "text/x-python",
   "name": "python",
   "nbconvert_exporter": "python",
   "pygments_lexer": "ipython2",
   "version": "2.7.6"
  }
 },
 "nbformat": 4,
 "nbformat_minor": 0
}

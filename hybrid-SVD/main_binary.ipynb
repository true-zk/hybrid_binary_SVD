{
 "cells": [
  {
   "cell_type": "markdown",
   "source": [
    "### Hybrid model for binary detect\n",
    "- load dataset\n",
    "- train model"
   ],
   "metadata": {
    "collapsed": false
   }
  },
  {
   "cell_type": "code",
   "execution_count": 1,
   "outputs": [],
   "source": [
    "import os\n",
    "import time\n",
    "import random\n",
    "import math\n",
    "import torch\n",
    "import torch.nn as nn\n",
    "from torch.utils.data import DataLoader as Dataloader_dsm\n",
    "from torch_geometric.loader import DataLoader as Dataloader_dot\n",
    "import matplotlib.pyplot as plt\n",
    "from gendata_binary import gendata\n",
    "from gendata_binary import MyDataset\n",
    "import torch.nn.functional as F\n",
    "import numpy as np\n",
    "from torch.nn import Sequential as Seq, Linear, ReLU\n",
    "from torch_geometric.nn import MessagePassing, TopKPooling\n",
    "from torch_geometric.nn import global_mean_pool, global_max_pool\n",
    "from torch_geometric.utils import degree"
   ],
   "metadata": {
    "collapsed": false
   }
  },
  {
   "cell_type": "code",
   "execution_count": 2,
   "outputs": [],
   "source": [
    "CWE = 190"
   ],
   "metadata": {
    "collapsed": false
   }
  },
  {
   "cell_type": "code",
   "execution_count": 3,
   "outputs": [
    {
     "name": "stdout",
     "output_type": "stream",
     "text": [
      "load data time span: 354.3098797798157\n"
     ]
    },
    {
     "data": {
      "text/plain": "<Figure size 640x480 with 1 Axes>",
      "image/png": "[encoded data removed]"
     },
     "metadata": {},
     "output_type": "display_data"
    },
    {
     "name": "stdout",
     "output_type": "stream",
     "text": [
      "max of code text length: 209\n"
     ]
    }
   ],
   "source": [
    "# start load data\n",
    "time_start = time.time()\n",
    "\n",
    "dataset = gendata(CWE)\n",
    "random.shuffle(dataset)\n",
    "len_dataset = len(dataset)\n",
    "dataset_dsm = []\n",
    "dataset_dot = []\n",
    "for data in dataset:\n",
    "    dataset_dot.append(data[0])\n",
    "    dataset_dsm.append(data[1])\n",
    "print(\"load data time span:\", time.time() - time_start)\n",
    "\n",
    "dsm_height = []\n",
    "for data in dataset_dsm:\n",
    "    dsm_height.append(len(data['x']))\n",
    "plt.hist(dsm_height)\n",
    "plt.show()\n",
    "print(\"max of code text length:\", max(dsm_height))"
   ],
   "metadata": {
    "collapsed": false
   }
  },
  {
   "cell_type": "code",
   "execution_count": 4,
   "outputs": [],
   "source": [
    "size_token = [130, 45]"
   ],
   "metadata": {
    "collapsed": false
   }
  },
  {
   "cell_type": "code",
   "execution_count": 5,
   "outputs": [
    {
     "name": "stdout",
     "output_type": "stream",
     "text": [
      "len of dataset:6840,         len of train:4788,         len of validate:684,         len of test:1368\n"
     ]
    }
   ],
   "source": [
    "len_train = int(0.7 * len_dataset)\n",
    "len_test = int(0.2 * len_dataset)\n",
    "len_validate = len_dataset - len_train - len_test\n",
    "\n",
    "Train_dot_loader = Dataloader_dot(dataset_dot[:len_train], batch_size=32, shuffle=False, drop_last=True)\n",
    "Test_dot_loader = Dataloader_dot(dataset_dot[len_train: len_train+len_test], batch_size=32, shuffle=False, drop_last=True)\n",
    "\n",
    "Train_dsm_loader = Dataloader_dsm(MyDataset(dataset_dsm[:len_train], size_token), batch_size=32, shuffle=False, drop_last=True)\n",
    "Test_dsm_loader = Dataloader_dsm(MyDataset(dataset_dsm[len_train: len_train+len_test], size_token), batch_size=32, shuffle=False, drop_last=True)\n",
    "\n",
    "print(f\"len of dataset:{len_dataset}, \\\n",
    "        len of train:{len_train}, \\\n",
    "        len of validate:{len_validate}, \\\n",
    "        len of test:{len_test}\")"
   ],
   "metadata": {
    "collapsed": false
   }
  },
  {
   "cell_type": "code",
   "execution_count": 6,
   "outputs": [],
   "source": [
    "# GCN layer\n",
    "# cite: https://pytorch-geometric.readthedocs.io/en/latest/notes/create_gnn.html\n",
    "class GCNConv(MessagePassing):\n",
    "    def __init__(self, in_channels, out_channels, **kwargs):\n",
    "        super().__init__(aggr='add', **kwargs)  # \"Add\" aggregation (Step 5).\n",
    "        self.in_channels = in_channels\n",
    "        self.out_channels = out_channels\n",
    "        self.lin = Linear(in_channels, out_channels)\n",
    "\n",
    "    def forward(self, x, edge_index):\n",
    "        # x[N, in_channels]\n",
    "        # edge_index, _ = add_self_loops(edge_index, num_nodes=x.size(0))\n",
    "        x = self.lin(x)\n",
    "        row, col = edge_index\n",
    "\n",
    "        deg = degree(col, x.size(0), dtype=x.dtype)\n",
    "\n",
    "        deg_inv_sqrt = deg.pow(-0.5)\n",
    "        deg_inv_sqrt[deg_inv_sqrt == float('inf')] = 0\n",
    "        norm = deg_inv_sqrt[row] * deg_inv_sqrt[col]\n",
    "        return  self.propagate(edge_index, size=(x.size(0), x.size(0)), x=x, norm=norm)\n",
    "\n",
    "    def message(self, x_j, norm):\n",
    "        # x_j has shape [E, out_channels]\n",
    "\n",
    "        # Step 4: Normalize node features.\n",
    "        return norm.view(-1, 1) * x_j\n",
    "\n",
    "    def update(self, aggr_out):\n",
    "        # aggr_out has shape [N, out_channels]\n",
    "        # Step 6: Return new node embeddings.\n",
    "        return aggr_out"
   ],
   "metadata": {
    "collapsed": false
   }
  },
  {
   "cell_type": "code",
   "execution_count": 7,
   "outputs": [],
   "source": [
    "class HybridNet(torch.nn.Module):\n",
    "    def __init__(self, size0, size1):\n",
    "        super(HybridNet, self).__init__()\n",
    "        ###############################################################################\n",
    "        # GCN model   \t\t\t\t\t\t\t\t\t\t\t\t\t\t\t\t  #\n",
    "        ###############################################################################\n",
    "        self.conv1 = GCNConv(256, 256)\n",
    "        self.pool1 = TopKPooling(256, ratio=0.8)\n",
    "        self.conv2 = GCNConv(256, 256)\n",
    "        self.pool2 = TopKPooling(256, ratio=0.8)\n",
    "        self.conv3 = GCNConv(256, 256)\n",
    "        self.pool3 = TopKPooling(256, ratio=0.8)\n",
    "        self.conv4 = GCNConv(256, 256)\n",
    "        self.pool4 = TopKPooling(256, ratio=0.8)\n",
    "        self.conv5 = GCNConv(256, 256)\n",
    "        self.pool5 = TopKPooling(256, ratio=0.8)\n",
    "\n",
    "        self.convAtt1 = torch.nn.Conv1d(in_channels=512, out_channels=64, kernel_size=1, stride=2)\n",
    "        self.poolAtt1 = torch.nn.MaxPool1d(kernel_size=1, stride=2)\n",
    "        self.convAtt2 = torch.nn.Conv1d(64, 16, kernel_size=1, stride=2)\n",
    "        self.poolAtt2 = torch.nn.MaxPool1d(kernel_size=1, stride=2)\n",
    "        self.convAtt3 = torch.nn.Conv1d(16, 2, kernel_size=1, stride=2)\n",
    "        self.poolAtt3 = torch.nn.MaxPool1d(kernel_size=1, stride=2)\n",
    "\n",
    "        self.convAtt4 = torch.nn.Conv1d(2, 16, kernel_size=1, stride=2)\n",
    "        self.poolAtt4 = torch.nn.MaxPool1d(kernel_size=1, stride=2)\n",
    "        self.convAtt5 = torch.nn.Conv1d(16, 64, kernel_size=1, stride=2)\n",
    "        self.poolAtt5 = torch.nn.MaxPool1d(kernel_size=1, stride=2)\n",
    "        self.convAtt6 = torch.nn.Conv1d(64, 512, kernel_size=1, stride=2)\n",
    "        self.poolAtt6 = torch.nn.MaxPool1d(kernel_size=1, stride=2)\n",
    "\n",
    "        ###############################################################################\n",
    "        # textCNN model   \t\t\t\t\t\t\t\t\t\t\t\t\t\t\t  #\n",
    "        ###############################################################################\n",
    "        h_input = size0\n",
    "        w_input = size1\n",
    "        filter_list = [2, 4, 6, 8, 10, 12, 16, 20]\n",
    "        num_per_filter = 64\n",
    "        h_raw = [h_input - i + 1 for i in filter_list]  # 175-filter_size+1: after conv\n",
    "        filter_list1 = [math.ceil(i / 2) for i in h_raw]  # p = ceil[h_raw / 2]\n",
    "        self.num_filter = len(filter_list)\n",
    "        self.conv_t = nn.ModuleList([nn.Conv2d(1, num_per_filter, (cnv_size, w_input)) for cnv_size in filter_list])\n",
    "        self.max_t = nn.MaxPool2d(kernel_size=(num_per_filter, 1))\n",
    "        self.avg_t = nn.AvgPool2d(kernel_size=(num_per_filter, 1))\n",
    "        self.conv_t1 = nn.ModuleList([nn.Conv2d(2, 1, (cnv_size, 1), padding='same') for cnv_size in filter_list1])\n",
    "        self.sig = nn.Sigmoid()\n",
    "        h_res = sum(h_raw)  # textCNN_input_feature\n",
    "        self.lin0_ = torch.nn.Linear(h_res, 512)\n",
    "        ###############################################################################\n",
    "        # hybrid output   \t\t\t\t\t\t\t\t\t\t\t\t\t\t\t  #\n",
    "        ###############################################################################\n",
    "        # x: cfg 512  t:dsm 512\n",
    "        #=============================================================================#\n",
    "        # 方案1：只调比例 没有什么大用\n",
    "        ratio = 0.2\n",
    "        r_dot = round(ratio * 1024)\n",
    "        r_dsm = 1024 - r_dot\n",
    "        self.lin0x_ = torch.nn.Linear(512, r_dot)\n",
    "        self.lin0t_ = torch.nn.Linear(512, r_dsm)\n",
    "        self.lin1_ = torch.nn.Linear(1024, 512)\n",
    "        self.lin2_ = torch.nn.Linear(512, 128)\n",
    "        self.lin3_ = torch.nn.Linear(128, 64)\n",
    "        self.lin4_ = torch.nn.Linear(64, 2)\n",
    "        self.dropout_ = nn.Dropout(0.6)\n",
    "\n",
    "        #=============================================================================#\n",
    "        # # 方案2：\n",
    "        # self.lin0x_ = torch.nn.Linear(512, 128)\n",
    "        # self.lin0t_ = torch.nn.Linear(512, 128)\n",
    "        #\n",
    "        # self.lin1x_ = torch.nn.Linear(128, 16)\n",
    "        # self.lin1t_ = torch.nn.Linear(128, 64)\n",
    "        #\n",
    "        # self.lin2x_ = torch.nn.Linear(80, 2)\n",
    "        # # self.lin2t_ = torch.nn.Linear(64, 2)\n",
    "        #\n",
    "        # self.dropoutx_ = nn.Dropout(0.6)\n",
    "        # self.dropoutt_ = nn.Dropout(0.6)\n",
    "\n",
    "    def forward(self, x, edge_index, batch, t):\n",
    "        ###############################################################################\n",
    "        # GCN model :  x, edge_index, batch = data.x, data.edge_index, data.batch\t  #\n",
    "        ###############################################################################\n",
    "        x = F.relu(self.conv1(x, edge_index))\n",
    "        x, edge_index, _, batch, _, _ = self.pool1(x, edge_index, None, batch)\n",
    "        x1 = torch.cat([global_max_pool(x, batch), global_mean_pool(x, batch)], dim=1)\n",
    "\n",
    "        x = F.relu(self.conv2(x, edge_index))\n",
    "        x, edge_index, _, batch, _, _ = self.pool2(x, edge_index, None, batch)\n",
    "        x2 = torch.cat([global_max_pool(x, batch), global_mean_pool(x, batch)], dim=1)\n",
    "\n",
    "        x = F.relu(self.conv3(x, edge_index))\n",
    "        x, edge_index, _, batch, _, _ = self.pool3(x, edge_index, None, batch)\n",
    "        x3 = torch.cat([global_max_pool(x, batch), global_mean_pool(x, batch)], dim=1)\n",
    "\n",
    "        x = F.relu(self.conv4(x, edge_index))\n",
    "        x, edge_index, _, batch, _, _ = self.pool4(x, edge_index, None, batch)\n",
    "        x4 = torch.cat([global_max_pool(x, batch), global_mean_pool(x, batch)], dim=1)\n",
    "\n",
    "        x = F.relu(self.conv5(x, edge_index))\n",
    "        x, edge_index, _, batch, _, _ = self.pool5(x, edge_index, None, batch)\n",
    "        x5 = torch.cat([global_max_pool(x, batch), global_mean_pool(x, batch)], dim=1)\n",
    "\n",
    "        x = x1 + x2 + x3 + x4 + x5\n",
    "\n",
    "        x = 1 / 5 * x\n",
    "\n",
    "        sx = x\n",
    "\n",
    "        x = x.unsqueeze(dim=2)\n",
    "\n",
    "        # attention\n",
    "        x = F.relu(self.convAtt1(x))\n",
    "        x = self.poolAtt1(x)\n",
    "        x = F.relu(self.convAtt2(x))\n",
    "        x = self.poolAtt2(x)\n",
    "        x = F.relu(self.convAtt3(x))\n",
    "        x = self.poolAtt3(x)\n",
    "\n",
    "        x = F.relu(self.convAtt4(x))\n",
    "        x = self.poolAtt4(x)\n",
    "        x = F.relu(self.convAtt5(x))\n",
    "        x = self.poolAtt5(x)\n",
    "        x = F.relu(self.convAtt6(x))\n",
    "        x = self.poolAtt6(x)\n",
    "        x = x.squeeze()\n",
    "\n",
    "        x = (x + 1) * sx\n",
    "\n",
    "        ###############################################################################\n",
    "        # TextCNN model :  t = batch * h * w\t\t\t\t\t\t\t\t\t\t  #\n",
    "        ###############################################################################\n",
    "\n",
    "        t = torch.unsqueeze(t, 1)  # batch, channel_in=1 , h, w\n",
    "        t = [torch.squeeze(F.relu(conv(t)), 3) for conv in self.conv_t]  # each_filter: batch, channel_out=64, h'\n",
    "        # t: num_filter * batch * num_per_filter=64 * h'\n",
    "\n",
    "        # attention\n",
    "        t = [torch.unsqueeze(i, 1) for i in t]  # num_filter * [ batch * 1 * num_per_filter=64 * h' ]\n",
    "\n",
    "        max_ = [self.max_t(i) for i in t]  # num_filter * [batch * 1 * 1 * h' ]\n",
    "        max_ = [torch.unsqueeze(torch.squeeze(i, 1), 3) for i in max_]  # num_filter * [batch * 1 * h' * 1]\n",
    "        avg_ = [self.avg_t(i) for i in t]  # num_filter * [batch * 1 * 1 * h' ]\n",
    "        avg_ = [torch.unsqueeze(torch.squeeze(i, 1), 3) for i in avg_]  # num_filter * [batch * 1 * h' * 1]\n",
    "\n",
    "        attention = [torch.cat((max_[i], avg_[i]), dim=1) for i in range(0, self.num_filter)]  # num_filter * [batch * 2 * h' * 1]\n",
    "        attention = [self.sig(self.conv_t1[i](attention[i])) for i in range(0, self.num_filter)]  # num_filter * [batch * 1 * h' * 1]\n",
    "        attention = [torch.unsqueeze(torch.squeeze(i, 3), 1) for i in attention]  # num_filter * [batch * 1 * 1 * h']\n",
    "\n",
    "        t = [t[i] * attention[i] for i in range(0, self.num_filter)]  # num_filter * [ batch * 1 * num_per_filter=64 * h' ]\n",
    "        t = [torch.squeeze(self.max_t(i)) for i in t]  # num_filter * [batch * h']\n",
    "        t = torch.cat(t, dim=1)  # batch * Σ(h')\n",
    "        t = torch.squeeze(t)\n",
    "        t = F.relu(self.lin0_(t))\n",
    "\n",
    "        ###############################################################################\n",
    "        # hybrid output :  #\n",
    "        ###############################################################################\n",
    "        # out layer\n",
    "        # x = F.relu(self.lin0x_(x))\n",
    "        # t = F.relu(self.lin0t_(t))\n",
    "        #\n",
    "        # x = self.dropoutx_(x)\n",
    "        # t = self.dropoutt_(t)\n",
    "        #\n",
    "        # x = F.relu(self.lin1x_(x))\n",
    "        # t = F.relu(self.lin1t_(t))\n",
    "        #\n",
    "        # x = torch.cat((t, x), dim=1)\n",
    "        #\n",
    "        # x = F.log_softmax(self.lin2x_(x), dim=-1)\n",
    "        x = F.relu(self.lin0x_(x))\n",
    "        t = F.relu(self.lin0t_(t))\n",
    "        x = torch.cat((t,x), dim=1)\n",
    "        x = F.relu(self.lin1_(x))\n",
    "        x = F.relu(self.lin2_(x))\n",
    "        x = self.dropout_(x)\n",
    "        x = F.relu(self.lin3_(x))\n",
    "        x = F.log_softmax(self.lin4_(x), dim=-1)\n",
    "        return x"
   ],
   "metadata": {
    "collapsed": false
   }
  },
  {
   "cell_type": "code",
   "execution_count": 8,
   "outputs": [],
   "source": [
    "device = torch.device('cuda' if torch.cuda.is_available() else 'cpu')\n",
    "# model = HybridNet(size_token[0], size_token[1]).to(device)\n",
    "model = HybridNet(size_token[0], size_token[1]).to(device)\n",
    "optimizer = torch.optim.Adam(model.parameters(), lr=0.001)\n",
    "criterion = torch.nn.CrossEntropyLoss()"
   ],
   "metadata": {
    "collapsed": false
   }
  },
  {
   "cell_type": "code",
   "execution_count": 9,
   "outputs": [],
   "source": [
    "def train(epoch):\n",
    "    model.train()\n",
    "    loss_all = 0\n",
    "    iter_loader = iter(Train_dsm_loader)\n",
    "    for data in Train_dot_loader:\n",
    "        t, yy = next(iter_loader)\n",
    "        t = t.to(device)\n",
    "\n",
    "        data = data.to(device)\n",
    "        x, edge_index, batch = data.x, data.edge_index, data.batch\n",
    "\n",
    "        optimizer.zero_grad()\n",
    "        output = model(x, edge_index, batch, t)\n",
    "\n",
    "        loss = F.nll_loss(output, data.y)\n",
    "        loss.backward()\n",
    "        loss_all += data.num_graphs * loss.item()\n",
    "        optimizer.step()\n",
    "    return loss_all / len(Train_dot_loader.dataset)"
   ],
   "metadata": {
    "collapsed": false
   }
  },
  {
   "cell_type": "code",
   "execution_count": 10,
   "outputs": [],
   "source": [
    "def test(loader0, loader1):\n",
    "    # loader0:dot loader1:dsm\n",
    "    model.eval()\n",
    "    correct = 0\n",
    "    tp = 0\n",
    "    tn = 0\n",
    "    fp = 0\n",
    "    fn = 0\n",
    "    pred_good = 0\n",
    "    pred_bad = 0\n",
    "    iter_loader = iter(loader1)\n",
    "    for data0 in loader0:\n",
    "        t, yy = next(iter_loader)\n",
    "        t = t.to(device)\n",
    "\n",
    "        data0 = data0.to(device)\n",
    "        x, edge_index, batch = data0.x, data0.edge_index, data0.batch\n",
    "\n",
    "        optimizer.zero_grad()\n",
    "        y_pred = model(x, edge_index, batch, t)\n",
    "        y_pred = y_pred.max(dim=1)[1]\n",
    "        correct += y_pred.eq(data0.y).sum().item()\n",
    "        for j in range(len(y_pred)):\n",
    "            if y_pred[j] == 0 and data0.y[j] == 0:\n",
    "                tp += 1\n",
    "                pred_bad += 1\n",
    "            elif y_pred[j] == 0 and data0.y[j] == 1:\n",
    "                fp += 1\n",
    "                pred_bad += 1\n",
    "            elif y_pred[j] == 1 and data0.y[j] == 0:\n",
    "                fn += 1\n",
    "                pred_good += 1\n",
    "            elif y_pred[j] == 1 and data0.y[j] == 1:\n",
    "                tn += 1\n",
    "                pred_good += 1\n",
    "    acc = (tp + tn) / (tp + tn + fp + fn)\n",
    "    return round(acc, 6), tp, fp, tn, fn, pred_good, pred_bad"
   ],
   "metadata": {
    "collapsed": false
   }
  },
  {
   "cell_type": "code",
   "execution_count": 11,
   "outputs": [
    {
     "name": "stderr",
     "output_type": "stream",
     "text": [
      "D:\\Develop\\Miniconda\\envs\\pytorch\\lib\\site-packages\\torch\\nn\\modules\\conv.py:453: UserWarning: Using padding='same' with even kernel lengths and odd dilation may require a zero-padded copy of the input be created (Triggered internally at  C:\\cb\\pytorch_1000000000000\\work\\aten\\src\\ATen\\native\\Convolution.cpp:883.)\n",
      "  return F.conv2d(input, weight, bias, self.stride,\n"
     ]
    },
    {
     "name": "stdout",
     "output_type": "stream",
     "text": [
      "Epoch: 000, Loss: 0.28790, Train Acc: 0.98133,Test Acc: 0.97470, TP: 622, FP: 18, TN: 688, FN: 16, Pred_good: 0704, Pred_bad: 0640\n",
      "Epoch: 004, Loss: 0.00615, Train Acc: 1.00000,Test Acc: 1.00000, TP: 638, FP: 00, TN: 706, FN: 00, Pred_good: 0706, Pred_bad: 0638\n",
      "Epoch: 008, Loss: 0.00002, Train Acc: 1.00000,Test Acc: 1.00000, TP: 638, FP: 00, TN: 706, FN: 00, Pred_good: 0706, Pred_bad: 0638\n"
     ]
    },
    {
     "ename": "KeyboardInterrupt",
     "evalue": "",
     "output_type": "error",
     "traceback": [
      "\u001B[1;31m---------------------------------------------------------------------------\u001B[0m",
      "\u001B[1;31mKeyboardInterrupt\u001B[0m                         Traceback (most recent call last)",
      "Cell \u001B[1;32mIn[11], line 10\u001B[0m\n\u001B[0;32m      8\u001B[0m best_acc_model \u001B[38;5;241m=\u001B[39m \u001B[38;5;28;01mNone\u001B[39;00m\n\u001B[0;32m      9\u001B[0m \u001B[38;5;28;01mfor\u001B[39;00m epoch \u001B[38;5;129;01min\u001B[39;00m \u001B[38;5;28mrange\u001B[39m(\u001B[38;5;241m0\u001B[39m, \u001B[38;5;241m200\u001B[39m):\n\u001B[1;32m---> 10\u001B[0m     loss \u001B[38;5;241m=\u001B[39m \u001B[43mtrain\u001B[49m\u001B[43m(\u001B[49m\u001B[43mepoch\u001B[49m\u001B[43m)\u001B[49m\n\u001B[0;32m     11\u001B[0m     \u001B[38;5;28;01mif\u001B[39;00m epoch \u001B[38;5;241m%\u001B[39m \u001B[38;5;241m4\u001B[39m \u001B[38;5;241m==\u001B[39m \u001B[38;5;241m0\u001B[39m:\n\u001B[0;32m     12\u001B[0m         train_acc, tp, fp, tn, fn, pred_good, pred_bad \u001B[38;5;241m=\u001B[39m test(Train_dot_loader, Train_dsm_loader)\n",
      "Cell \u001B[1;32mIn[9], line 17\u001B[0m, in \u001B[0;36mtrain\u001B[1;34m(epoch)\u001B[0m\n\u001B[0;32m     15\u001B[0m     loss \u001B[38;5;241m=\u001B[39m F\u001B[38;5;241m.\u001B[39mnll_loss(output, data\u001B[38;5;241m.\u001B[39my)\n\u001B[0;32m     16\u001B[0m     loss\u001B[38;5;241m.\u001B[39mbackward()\n\u001B[1;32m---> 17\u001B[0m     loss_all \u001B[38;5;241m+\u001B[39m\u001B[38;5;241m=\u001B[39m data\u001B[38;5;241m.\u001B[39mnum_graphs \u001B[38;5;241m*\u001B[39m \u001B[43mloss\u001B[49m\u001B[38;5;241;43m.\u001B[39;49m\u001B[43mitem\u001B[49m\u001B[43m(\u001B[49m\u001B[43m)\u001B[49m\n\u001B[0;32m     18\u001B[0m     optimizer\u001B[38;5;241m.\u001B[39mstep()\n\u001B[0;32m     19\u001B[0m \u001B[38;5;28;01mreturn\u001B[39;00m loss_all \u001B[38;5;241m/\u001B[39m \u001B[38;5;28mlen\u001B[39m(Train_dot_loader\u001B[38;5;241m.\u001B[39mdataset)\n",
      "\u001B[1;31mKeyboardInterrupt\u001B[0m: "
     ]
    }
   ],
   "source": [
    "# train & test\n",
    "# time log\n",
    "time_start = time.time()\n",
    "\n",
    "train_loss_a = np.zeros(200)\n",
    "test_acc_a = np.zeros(200)\n",
    "best_acc = 0\n",
    "best_acc_model = None\n",
    "for epoch in range(0, 200):\n",
    "    loss = train(epoch)\n",
    "    if epoch % 4 == 0:\n",
    "        train_acc, tp, fp, tn, fn, pred_good, pred_bad = test(Train_dot_loader, Train_dsm_loader)\n",
    "        test_acc, tp, fp, tn, fn, pred_good, pred_bad = test(Test_dot_loader, Test_dsm_loader)\n",
    "        if test_acc > best_acc:\n",
    "            best_acc = test_acc\n",
    "            best_acc_model = model\n",
    "        train_loss_a[epoch] = loss\n",
    "        test_acc_a[epoch] = test_acc\n",
    "        print('Epoch: {:03d}, Loss: {:.5f}, Train Acc: {:.5f},Test Acc: {:.5f}, TP: {:02d}, FP: {:02d}, TN: {:02d}, FN: {:02d}, Pred_good: {:04d}, Pred_bad: {:04d}'.\n",
    "            format(epoch, loss, train_acc, test_acc, tp, fp, tn, fn, pred_good, pred_bad))\n",
    "\n",
    "# fin train & test;;print time span\n",
    "time_fin_train = time.time()\n",
    "print(\"train & test time span : \", time_fin_train - time_start)"
   ],
   "metadata": {
    "collapsed": false
   }
  },
  {
   "cell_type": "code",
   "execution_count": null,
   "outputs": [],
   "source": [
    "# save the best test acc model\n",
    "path_out_model = r'D:\\Desktop\\hybrid-SVD\\model_out\\CWE127.model'\n",
    "model = model.to('cpu')\n",
    "torch.save(model, path_out_model)\n"
   ],
   "metadata": {
    "collapsed": false
   }
  },
  {
   "cell_type": "code",
   "execution_count": null,
   "outputs": [],
   "source": [
    "x = np.arange(0, 200, 1)\n",
    "plt.xlabel(\"iteration\")\n",
    "plt.ylabel(\"train loss\")\n",
    "plt.plot(x, train_loss_a[0:200])\n"
   ],
   "metadata": {
    "collapsed": false
   }
  },
  {
   "cell_type": "code",
   "execution_count": null,
   "outputs": [],
   "source": [
    "x = np.arange(0, 200, 1)\n",
    "plt.xlabel(\"iteration\")\n",
    "plt.ylabel(\"test acc\")\n",
    "plt.plot(x, test_acc_a[0:200])\n",
    "\n",
    "print(\"Best acc:\", best_acc)\n"
   ],
   "metadata": {
    "collapsed": false
   }
  },
  {
   "cell_type": "code",
   "execution_count": null,
   "outputs": [],
   "source": [],
   "metadata": {
    "collapsed": false
   }
  }
 ],
 "metadata": {
  "kernelspec": {
   "display_name": "Python 3",
   "language": "python",
   "name": "python3"
  },
  "language_info": {
   "codemirror_mode": {
    "name": "ipython",
    "version": 2
   },
   "file_extension": ".py",
   "mimetype": "text/x-python",
   "name": "python",
   "nbconvert_exporter": "python",
   "pygments_lexer": "ipython2",
   "version": "2.7.6"
  }
 },
 "nbformat": 4,
 "nbformat_minor": 0
}
